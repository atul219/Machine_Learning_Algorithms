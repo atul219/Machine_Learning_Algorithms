{
 "cells": [
  {
   "cell_type": "code",
   "execution_count": 31,
   "metadata": {},
   "outputs": [],
   "source": [
    "import numpy as np"
   ]
  },
  {
   "cell_type": "code",
   "execution_count": 32,
   "metadata": {},
   "outputs": [
    {
     "name": "stdout",
     "output_type": "stream",
     "text": [
      "[[0.25479459 0.54996183 0.45494826 0.92648391]\n",
      " [0.69452573 0.78177933 0.04656221 0.30851882]\n",
      " [0.014053   0.86005825 0.87973355 0.1406375 ]\n",
      " [0.41068616 0.85978903 0.8466465  0.11908279]]\n"
     ]
    }
   ],
   "source": [
    "# generate random data\n",
    "\n",
    "data = np.random.random((4,4))\n",
    "print(data)"
   ]
  },
  {
   "cell_type": "code",
   "execution_count": 33,
   "metadata": {},
   "outputs": [],
   "source": [
    "# normalise the data\n",
    "rows,col = np.shape(data)\n",
    "norm_data = np.zeros(np.shape(data))\n",
    "for i in range(col):\n",
    "    norm_data[:,i] = (data[:,i] - min(data[:,i])/max(data[:,i]) - min(data[:,i]))"
   ]
  },
  {
   "cell_type": "code",
   "execution_count": 34,
   "metadata": {},
   "outputs": [
    {
     "name": "stdout",
     "output_type": "stream",
     "text": [
      "[[ 0.22050764 -0.63944719  0.35545842  0.67886917]\n",
      " [ 0.66023877 -0.40762969 -0.05292763  0.06090408]\n",
      " [-0.02023395 -0.32935078  0.78024371 -0.10697724]\n",
      " [ 0.37639921 -0.32961999  0.74715666 -0.12853195]]\n"
     ]
    }
   ],
   "source": [
    "print(norm_data)"
   ]
  },
  {
   "cell_type": "code",
   "execution_count": 35,
   "metadata": {},
   "outputs": [],
   "source": [
    "# calculating covariance matrix of normalise data\n",
    "cov_data = np.zeros(np.shape(data))\n",
    "cov_data = np.cov(norm_data)"
   ]
  },
  {
   "cell_type": "code",
   "execution_count": 36,
   "metadata": {},
   "outputs": [
    {
     "name": "stdout",
     "output_type": "stream",
     "text": [
      "[[0.31668492 0.12956246 0.12035462 0.12324327]\n",
      " [0.12956246 0.19720388 0.01733181 0.09738475]\n",
      " [0.12035462 0.01733181 0.23430442 0.21460469]\n",
      " [0.12324327 0.09738475 0.21460469 0.23813288]]\n"
     ]
    }
   ],
   "source": [
    "print(cov_data)"
   ]
  },
  {
   "cell_type": "code",
   "execution_count": 43,
   "metadata": {},
   "outputs": [],
   "source": [
    "# calculating eigen values and eigen vectors\n",
    "eigen_val,eigen_vec = np.linalg.eig(cov_data)"
   ]
  },
  {
   "cell_type": "code",
   "execution_count": 44,
   "metadata": {},
   "outputs": [],
   "source": [
    "# sorting eigen values and eigen vectors in descending order\n",
    "index_eigval = np.argsort(eigen_val)"
   ]
  },
  {
   "cell_type": "code",
   "execution_count": 45,
   "metadata": {},
   "outputs": [],
   "source": [
    "# sorted eigen values and eigen vectors \n",
    "\n",
    "# size of sorted eigen values and vectors equal to eigen values and vectors\n",
    "sorted_eigval = np.zeros(np.shape(eigen_val))\n",
    "sorted_eigvec = np.zeros(np.shape(eigen_vec))\n",
    "\n",
    "# loop to length of index values of eigen values\n",
    "for i in range(len(index_eigval)):\n",
    "    \n",
    "    sorted_eigval[len(index_eigval)-i-1] = eigen_val[index_eigval[i]]\n",
    "    sorted_eigvec[:,len(index_eigval)-i-1] = eigen_vec[:,index_eigval[i]]"
   ]
  },
  {
   "cell_type": "code",
   "execution_count": 46,
   "metadata": {},
   "outputs": [],
   "source": [
    "# to find cummulative weight of data \n",
    "cummulative_weight = np.zeros([len(index_eigval)])\n",
    "count = 0\n",
    "for i in range(len(index_eigval)):\n",
    "    cummulative_weight[i] = (sorted_eigval[i] + count)/ np.sum(sorted_eigval)\n",
    "    count = count + sorted_eigval[i]"
   ]
  },
  {
   "cell_type": "code",
   "execution_count": null,
   "metadata": {},
   "outputs": [],
   "source": [
    "# To check how much data we need to save \n",
    "var = 0.9\n",
    "val"
   ]
  }
 ],
 "metadata": {
  "kernelspec": {
   "display_name": "Python 3",
   "language": "python",
   "name": "python3"
  },
  "language_info": {
   "codemirror_mode": {
    "name": "ipython",
    "version": 3
   },
   "file_extension": ".py",
   "mimetype": "text/x-python",
   "name": "python",
   "nbconvert_exporter": "python",
   "pygments_lexer": "ipython3",
   "version": "3.6.5"
  }
 },
 "nbformat": 4,
 "nbformat_minor": 2
}
